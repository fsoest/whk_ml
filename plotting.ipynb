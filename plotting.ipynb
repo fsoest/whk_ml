{
 "cells": [
  {
   "cell_type": "markdown",
   "metadata": {
    "pycharm": {
     "name": "#%% md\n"
    }
   },
   "source": [
    "# Plotting with matplotlib\n",
    "Requirements:\n",
    "\n",
    "* matplotlib\n",
    "* ipympl\n",
    "* pandas"
   ]
  },
  {
   "cell_type": "code",
   "execution_count": 12,
   "metadata": {},
   "outputs": [],
   "source": [
    "# Erstellen von Testdaten\n",
    "import numpy as np\n",
    "import pandas as pd\n",
    "\n",
    "style = 'seaborn-whitegrid'\n",
    "\n",
    "np.random.seed(42)\n",
    "df = pd.DataFrame({'x_1': range(10), \n",
    "                   'x_2': np.array(range(10)) * 2,\n",
    "                   'y_1': np.random.randint(0, 10, 10),\n",
    "                   'y_2': np.random.randint(0, 10, 10)})\n",
    "\n",
    "\n",
    "import matplotlib.pyplot as plt  \n",
    "from sklearn.datasets import make_classification\n",
    "from sklearn.model_selection import train_test_split\n",
    "from sklearn.svm import SVC\n",
    "X, y = make_classification(random_state=0, n_classes=4, n_informative=4)\n",
    "X_train, X_test, y_train, y_test = train_test_split(X, y, random_state=0)\n",
    "clf = SVC(random_state=0)\n",
    "clf.fit(X_train, y_train)\n",
    "\n",
    "from sklearn.datasets import load_iris\n",
    "\n",
    "iris_dict = load_iris()\n",
    "iris = pd.DataFrame()\n",
    "iris['y'] = iris_dict['target']\n",
    "iris['sepal length (cm)'] = iris_dict.data[:, 0]\n",
    "iris['sepal width (cm)'] = iris_dict.data[:, 1]\n",
    "iris['petal length (cm)'] = iris_dict.data[:, 2]\n",
    "iris['petal width (cm)'] = iris_dict.data[:, 3]"
   ]
  },
  {
   "cell_type": "markdown",
   "metadata": {},
   "source": [
    "## Verlaufsplots"
   ]
  },
  {
   "cell_type": "code",
   "execution_count": 6,
   "metadata": {
    "pycharm": {
     "name": "#%%\n"
    }
   },
   "outputs": [
    {
     "data": {
      "application/vnd.jupyter.widget-view+json": {
       "model_id": "edd3bb9e13784738bfca34204ba95e61",
       "version_major": 2,
       "version_minor": 0
      },
      "text/plain": [
       "Canvas(toolbar=Toolbar(toolitems=[('Home', 'Reset original view', 'home', 'home'), ('Back', 'Back to previous …"
      ]
     },
     "metadata": {},
     "output_type": "display_data"
    }
   ],
   "source": [
    "import matplotlib.pyplot as plt\n",
    "%matplotlib widget\n",
    "plt.style.use(style)\n",
    "import pandas as pd\n",
    "\n",
    "fig, ax = plt.subplots()\n",
    "\n",
    "# Zeichnen der Daten\n",
    "ax.plot(df['x_1'], df['y_1'], label='label_1')\n",
    "ax.plot(df['x_1'], df['y_2'], label='label_2')\n",
    "\n",
    "# Achsenbeschriftungen, Titel\n",
    "ax.set_xlabel('xlabel')\n",
    "ax.set_ylabel('ylabel')\n",
    "ax.set_title('Title')\n",
    "\n",
    "# Legende\n",
    "ax.legend()\n",
    "\n",
    "# Plots speichern\n",
    "fig.savefig('filename.pdf')\n",
    "\n",
    "plt.show()"
   ]
  },
  {
   "cell_type": "markdown",
   "metadata": {},
   "source": [
    "## Konfusionsmatrix"
   ]
  },
  {
   "cell_type": "code",
   "execution_count": 7,
   "metadata": {},
   "outputs": [
    {
     "data": {
      "application/vnd.jupyter.widget-view+json": {
       "model_id": "6d44212190074eb9980e323d712937ca",
       "version_major": 2,
       "version_minor": 0
      },
      "text/plain": [
       "Canvas(toolbar=Toolbar(toolitems=[('Home', 'Reset original view', 'home', 'home'), ('Back', 'Back to previous …"
      ]
     },
     "metadata": {},
     "output_type": "display_data"
    }
   ],
   "source": [
    "import matplotlib.pyplot as plt\n",
    "%matplotlib widget\n",
    "plt.style.use(style)\n",
    "\n",
    "from sklearn.metrics import plot_confusion_matrix\n",
    "\n",
    "plot_confusion_matrix(clf, X_test, y_test, cmap=plt.cm.GnBu, display_labels=['a', 'b', 'c', 'd'])\n",
    "plt.grid(False)\n",
    "\n",
    "## Achsenbeschriftungen, Titel\n",
    "plt.xlabel('xlabel')\n",
    "plt.ylabel('ylabel')\n",
    "plt.title('title')\n",
    "\n",
    "# Plots speichern\n",
    "# plt.savefig('filename.pdf')\n",
    "\n",
    "plt.show()  "
   ]
  },
  {
   "cell_type": "markdown",
   "metadata": {},
   "source": [
    "## Parallel-Koordinaten Plot"
   ]
  },
  {
   "cell_type": "code",
   "execution_count": 13,
   "metadata": {},
   "outputs": [
    {
     "data": {
      "application/vnd.jupyter.widget-view+json": {
       "model_id": "c256ae32047e4ac597b888aa679ae427",
       "version_major": 2,
       "version_minor": 0
      },
      "text/plain": [
       "Canvas(toolbar=Toolbar(toolitems=[('Home', 'Reset original view', 'home', 'home'), ('Back', 'Back to previous …"
      ]
     },
     "metadata": {},
     "output_type": "display_data"
    },
    {
     "data": {
      "text/plain": [
       "<AxesSubplot:>"
      ]
     },
     "execution_count": 13,
     "metadata": {},
     "output_type": "execute_result"
    }
   ],
   "source": [
    "import matplotlib.pyplot as plt\n",
    "%matplotlib widget\n",
    "plt.style.use(style)\n",
    "import pandas as pd\n",
    "\n",
    "colors = plt.rcParams['axes.prop_cycle'].by_key()['color']\n",
    "\n",
    "pd.plotting.parallel_coordinates(iris, 'y', color=colors)\n",
    "\n",
    "# Plotly probably better here"
   ]
  },
  {
   "cell_type": "code",
   "execution_count": null,
   "metadata": {},
   "outputs": [],
   "source": []
  }
 ],
 "metadata": {
  "kernelspec": {
   "display_name": "Python 3 (ipykernel)",
   "language": "python",
   "name": "python3"
  },
  "language_info": {
   "codemirror_mode": {
    "name": "ipython",
    "version": 3
   },
   "file_extension": ".py",
   "mimetype": "text/x-python",
   "name": "python",
   "nbconvert_exporter": "python",
   "pygments_lexer": "ipython3",
   "version": "3.9.6"
  }
 },
 "nbformat": 4,
 "nbformat_minor": 4
}
