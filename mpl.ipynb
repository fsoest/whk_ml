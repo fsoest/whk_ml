{
 "cells": [
  {
   "cell_type": "markdown",
   "metadata": {
    "pycharm": {
     "name": "#%% md\n"
    }
   },
   "source": [
    "# Plotting with matplotlib\n",
    "Requirements:\n",
    "\n",
    "* matplotlib\n",
    "* ipympl\n",
    "* pandas\n",
    "* sklearn"
   ]
  },
  {
   "cell_type": "code",
   "execution_count": 2,
   "metadata": {},
   "outputs": [],
   "source": [
    "# Erstellen von Testdaten\n",
    "import numpy as np\n",
    "import pandas as pd\n",
    "\n",
    "style = 'seaborn-whitegrid'\n",
    "\n",
    "np.random.seed(42)\n",
    "df = pd.DataFrame({'x_1': range(10), \n",
    "                   'x_2': np.array(range(10)) * 2,\n",
    "                   'y_1': np.random.randint(0, 10, 10),\n",
    "                   'y_2': np.random.randint(0, 10, 10)})\n",
    "\n",
    "\n",
    "from sklearn.datasets import make_classification\n",
    "from sklearn.model_selection import train_test_split\n",
    "from sklearn.svm import SVC\n",
    "X, y = make_classification(random_state=0, n_classes=4, n_informative=4)\n",
    "X_train, X_test, y_train, y_test = train_test_split(X, y, random_state=0)\n",
    "clf = SVC(random_state=0)\n",
    "clf.fit(X_train, y_train)\n",
    "\n",
    "from sklearn.datasets import load_iris\n",
    "\n",
    "iris_dict = load_iris()\n",
    "iris = pd.DataFrame()\n",
    "iris['y'] = iris_dict['target']\n",
    "iris['sepal length (cm)'] = iris_dict.data[:, 0]\n",
    "iris['sepal width (cm)'] = iris_dict.data[:, 1]\n",
    "iris['petal length (cm)'] = iris_dict.data[:, 2]\n",
    "iris['petal width (cm)'] = iris_dict.data[:, 3]"
   ]
  },
  {
   "cell_type": "markdown",
   "metadata": {},
   "source": [
    "## Verlaufsplots"
   ]
  },
  {
   "cell_type": "code",
   "execution_count": 49,
   "metadata": {
    "pycharm": {
     "name": "#%%\n"
    }
   },
   "outputs": [
    {
     "data": {
      "application/vnd.jupyter.widget-view+json": {
       "model_id": "0e55e1fc982b49d8ad04789910033f0f",
       "version_major": 2,
       "version_minor": 0
      },
      "text/plain": [
       "Canvas(toolbar=Toolbar(toolitems=[('Home', 'Reset original view', 'home', 'home'), ('Back', 'Back to previous …"
      ]
     },
     "metadata": {},
     "output_type": "display_data"
    }
   ],
   "source": [
    "import matplotlib.pyplot as plt\n",
    "%matplotlib widget\n",
    "plt.style.use(style)\n",
    "import pandas as pd\n",
    "\n",
    "fig, ax = plt.subplots()\n",
    "\n",
    "# Zeichnen der Daten\n",
    "ax.plot(df['x_1'], df['y_1'], label='label_1')\n",
    "ax.plot(df['x_1'], df['y_2'], label='label_2')\n",
    "\n",
    "# Achsenbeschriftungen, Titel\n",
    "ax.set_xlabel('xlabel')\n",
    "ax.set_ylabel('ylabel')\n",
    "ax.set_title('Title')\n",
    "\n",
    "# Legende\n",
    "ax.legend()\n",
    "\n",
    "# Plots speichern\n",
    "plt.savefig('mpl_plots/verlauf.pdf')\n",
    "plt.show()"
   ]
  },
  {
   "cell_type": "markdown",
   "metadata": {},
   "source": [
    "## Konfusionsmatrix"
   ]
  },
  {
   "cell_type": "code",
   "execution_count": 50,
   "metadata": {},
   "outputs": [
    {
     "data": {
      "application/vnd.jupyter.widget-view+json": {
       "model_id": "43ac2c1cf7cc4057b388556c603402fd",
       "version_major": 2,
       "version_minor": 0
      },
      "text/plain": [
       "Canvas(toolbar=Toolbar(toolitems=[('Home', 'Reset original view', 'home', 'home'), ('Back', 'Back to previous …"
      ]
     },
     "metadata": {},
     "output_type": "display_data"
    }
   ],
   "source": [
    "import matplotlib.pyplot as plt\n",
    "%matplotlib widget\n",
    "plt.style.use(style)\n",
    "\n",
    "from sklearn.metrics import plot_confusion_matrix\n",
    "\n",
    "plot_confusion_matrix(clf, X_test, y_test, cmap=plt.cm.GnBu, display_labels=iris_dict.feature_names, colorbar=False, xticks_rotation=45)\n",
    "plt.grid(False)\n",
    "\n",
    "## Achsenbeschriftungen, Titel\n",
    "plt.xlabel('xlabel')\n",
    "plt.ylabel('ylabel')\n",
    "plt.title('title')\n",
    "\n",
    "# Plots speichern\n",
    "# plt.savefig('filename.pdf')\n",
    "plt.tight_layout()\n",
    "plt.savefig('mpl_plots/konfusionsmatrix.pdf')\n",
    "\n",
    "plt.show()  "
   ]
  },
  {
   "cell_type": "markdown",
   "metadata": {},
   "source": [
    "## Parallel-Koordinaten Plot"
   ]
  },
  {
   "cell_type": "code",
   "execution_count": 51,
   "metadata": {},
   "outputs": [
    {
     "data": {
      "application/vnd.jupyter.widget-view+json": {
       "model_id": "96b607bf6e844fa0bd55a4fc8555ce6a",
       "version_major": 2,
       "version_minor": 0
      },
      "text/plain": [
       "Canvas(toolbar=Toolbar(toolitems=[('Home', 'Reset original view', 'home', 'home'), ('Back', 'Back to previous …"
      ]
     },
     "metadata": {},
     "output_type": "display_data"
    }
   ],
   "source": [
    "import matplotlib.pyplot as plt\n",
    "%matplotlib widget\n",
    "plt.style.use(style)\n",
    "import pandas as pd\n",
    "\n",
    "colors = plt.rcParams['axes.prop_cycle'].by_key()['color']\n",
    "\n",
    "pd.plotting.parallel_coordinates(iris, 'y', color=colors)\n",
    "plt.savefig('mpl_plots/parallel_koordinaten.pdf')\n",
    "\n",
    "plt.show()\n",
    "# Plotly probably better here"
   ]
  },
  {
   "cell_type": "markdown",
   "metadata": {},
   "source": [
    "## Scatterplot"
   ]
  },
  {
   "cell_type": "code",
   "execution_count": 52,
   "metadata": {},
   "outputs": [
    {
     "data": {
      "application/vnd.jupyter.widget-view+json": {
       "model_id": "48753bf4c3914883a8b4ced28d0e2f01",
       "version_major": 2,
       "version_minor": 0
      },
      "text/plain": [
       "Canvas(toolbar=Toolbar(toolitems=[('Home', 'Reset original view', 'home', 'home'), ('Back', 'Back to previous …"
      ]
     },
     "metadata": {},
     "output_type": "display_data"
    }
   ],
   "source": [
    "import matplotlib.pyplot as plt\n",
    "%matplotlib widget\n",
    "plt.style.use(style)\n",
    "import pandas as pd\n",
    "\n",
    "fig, ax = plt.subplots()\n",
    "\n",
    "# Daten auswählen\n",
    "ax.scatter(df['x_1'], df['y_1'], label='label_1')\n",
    "ax.scatter(df['x_1'], df['y_2'], label='label_2')\n",
    "\n",
    "ax.legend()\n",
    "\n",
    "# Achsenbeschriftung, Titel\n",
    "ax.set_xlabel('xlabel')\n",
    "ax.set_ylabel('ylabel')\n",
    "ax.set_title('Title')\n",
    "\n",
    "plt.savefig('mpl_plots/scatter.pdf')\n",
    "\n",
    "plt.show()"
   ]
  },
  {
   "cell_type": "markdown",
   "metadata": {},
   "source": [
    "## Scatterplot Matrix"
   ]
  },
  {
   "cell_type": "code",
   "execution_count": 53,
   "metadata": {
    "tags": []
   },
   "outputs": [
    {
     "data": {
      "application/vnd.jupyter.widget-view+json": {
       "model_id": "a16df4a827cb4c6ea7d66f993b3aa68d",
       "version_major": 2,
       "version_minor": 0
      },
      "text/plain": [
       "Canvas(toolbar=Toolbar(toolitems=[('Home', 'Reset original view', 'home', 'home'), ('Back', 'Back to previous …"
      ]
     },
     "metadata": {},
     "output_type": "display_data"
    }
   ],
   "source": [
    "import matplotlib.pyplot as plt\n",
    "%matplotlib widget\n",
    "plt.style.use(style)\n",
    "import pandas as pd\n",
    "from seaborn import pairplot\n",
    "\n",
    "pairplot(iris, hue='y')\n",
    "\n",
    "plt.savefig('mpl_plots/scatterplot_matrix.pdf')\n",
    "\n",
    "plt.show()"
   ]
  },
  {
   "cell_type": "markdown",
   "metadata": {},
   "source": [
    "## Balkendiagramme"
   ]
  },
  {
   "cell_type": "code",
   "execution_count": 54,
   "metadata": {},
   "outputs": [
    {
     "data": {
      "application/vnd.jupyter.widget-view+json": {
       "model_id": "89244df846f24348a6a20e9c49c3e3ff",
       "version_major": 2,
       "version_minor": 0
      },
      "text/plain": [
       "Canvas(toolbar=Toolbar(toolitems=[('Home', 'Reset original view', 'home', 'home'), ('Back', 'Back to previous …"
      ]
     },
     "metadata": {},
     "output_type": "display_data"
    }
   ],
   "source": [
    "import matplotlib.pyplot as plt\n",
    "%matplotlib widget\n",
    "plt.style.use(style)\n",
    "\n",
    "fig, ax = plt.subplots()\n",
    "ax.bar(np.arange(50), iris['petal length (cm)'].iloc[:50], width=0.4)\n",
    "ax.bar(np.arange(50) + 0.5, iris['sepal length (cm)'].iloc[:50], width=0.4)\n",
    "\n",
    "# Achsenbeschriftung, Titel\n",
    "ax.set_xlabel('xlabel')\n",
    "ax.set_ylabel('ylabel')\n",
    "ax.set_title('Title')\n",
    "\n",
    "plt.savefig('mpl_plots/balken.pdf')\n",
    "\n",
    "plt.show()"
   ]
  },
  {
   "cell_type": "markdown",
   "metadata": {},
   "source": [
    "## Histogramme"
   ]
  },
  {
   "cell_type": "code",
   "execution_count": 55,
   "metadata": {},
   "outputs": [
    {
     "data": {
      "application/vnd.jupyter.widget-view+json": {
       "model_id": "92584868dcdc4b70877c2de2e1be0e52",
       "version_major": 2,
       "version_minor": 0
      },
      "text/plain": [
       "Canvas(toolbar=Toolbar(toolitems=[('Home', 'Reset original view', 'home', 'home'), ('Back', 'Back to previous …"
      ]
     },
     "metadata": {},
     "output_type": "display_data"
    }
   ],
   "source": [
    "import matplotlib.pyplot as plt\n",
    "%matplotlib widget\n",
    "plt.style.use(style)\n",
    "\n",
    "\n",
    "import numpy as np\n",
    "np.random.seed(42)\n",
    "\n",
    "x_1 = np.random.randn(500)\n",
    "x_2 = np.random.randn(500)\n",
    "\n",
    "fig, ax = plt.subplots()\n",
    "\n",
    "ax.hist(x_1, bins=15)\n",
    "ax.hist(x_2, bins=15)\n",
    "\n",
    "plt.savefig('mpl_plots/hist.pdf')\n",
    "\n",
    "plt.show()"
   ]
  },
  {
   "cell_type": "markdown",
   "metadata": {},
   "source": [
    "# 3D-Plot"
   ]
  },
  {
   "cell_type": "code",
   "execution_count": 56,
   "metadata": {},
   "outputs": [
    {
     "data": {
      "application/vnd.jupyter.widget-view+json": {
       "model_id": "06a0c571e5c54154b911d7e7caf15c16",
       "version_major": 2,
       "version_minor": 0
      },
      "text/plain": [
       "Canvas(toolbar=Toolbar(toolitems=[('Home', 'Reset original view', 'home', 'home'), ('Back', 'Back to previous …"
      ]
     },
     "metadata": {},
     "output_type": "display_data"
    }
   ],
   "source": [
    "import matplotlib.pyplot as plt\n",
    "import pandas as pd\n",
    "from matplotlib import cm\n",
    "\n",
    "z_data = pd.read_csv('https://raw.githubusercontent.com/plotly/datasets/master/api_docs/mt_bruno_elevation.csv')\n",
    "\n",
    "X = np.linspace(0, 5, 25)\n",
    "\n",
    "X, Y = np.meshgrid(X, X)\n",
    "\n",
    "fig, ax = plt.subplots(subplot_kw={'projection': '3d'})\n",
    "\n",
    "surface = ax.plot_surface(X, Y, np.array(z_data), cmap=cm.coolwarm, linewidth=0, antialiased=False)\n",
    "#fig.colorbar(surface)\n",
    "\n",
    "\n",
    "plt.savefig('mpl_plots/3d.pdf')\n",
    "\n",
    "plt.show()"
   ]
  },
  {
   "cell_type": "code",
   "execution_count": null,
   "metadata": {},
   "outputs": [],
   "source": []
  }
 ],
 "metadata": {
  "kernelspec": {
   "display_name": "Python 3",
   "language": "python",
   "name": "python3"
  },
  "language_info": {
   "codemirror_mode": {
    "name": "ipython",
    "version": 3
   },
   "file_extension": ".py",
   "mimetype": "text/x-python",
   "name": "python",
   "nbconvert_exporter": "python",
   "pygments_lexer": "ipython3",
   "version": "3.9.6"
  }
 },
 "nbformat": 4,
 "nbformat_minor": 4
}
